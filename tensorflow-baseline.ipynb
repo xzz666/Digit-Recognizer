{
 "cells": [
  {
   "cell_type": "code",
   "execution_count": 1,
   "id": "1873a4fe",
   "metadata": {
    "_cell_guid": "b1076dfc-b9ad-4769-8c92-a6c4dae69d19",
    "_uuid": "8f2839f25d086af736a60e9eeb907d3b93b6e0e5",
    "execution": {
     "iopub.execute_input": "2023-06-04T07:45:25.692754Z",
     "iopub.status.busy": "2023-06-04T07:45:25.691937Z",
     "iopub.status.idle": "2023-06-04T07:45:25.707735Z",
     "shell.execute_reply": "2023-06-04T07:45:25.706443Z"
    },
    "papermill": {
     "duration": 0.029738,
     "end_time": "2023-06-04T07:45:25.710631",
     "exception": false,
     "start_time": "2023-06-04T07:45:25.680893",
     "status": "completed"
    },
    "tags": []
   },
   "outputs": [
    {
     "name": "stdout",
     "output_type": "stream",
     "text": [
      "/kaggle/input/digit-recognizer/sample_submission.csv\n",
      "/kaggle/input/digit-recognizer/train.csv\n",
      "/kaggle/input/digit-recognizer/test.csv\n"
     ]
    }
   ],
   "source": [
    "# This Python 3 environment comes with many helpful analytics libraries installed\n",
    "# It is defined by the kaggle/python Docker image: https://github.com/kaggle/docker-python\n",
    "# For example, here's several helpful packages to load\n",
    "\n",
    "import numpy as np # linear algebra\n",
    "import pandas as pd # data processing, CSV file I/O (e.g. pd.read_csv)\n",
    "\n",
    "# Input data files are available in the read-only \"../input/\" directory\n",
    "# For example, running this (by clicking run or pressing Shift+Enter) will list all files under the input directory\n",
    "\n",
    "import os\n",
    "for dirname, _, filenames in os.walk('/kaggle/input'):\n",
    "    for filename in filenames:\n",
    "        print(os.path.join(dirname, filename))\n",
    "\n",
    "# You can write up to 20GB to the current directory (/kaggle/working/) that gets preserved as output when you create a version using \"Save & Run All\" \n",
    "# You can also write temporary files to /kaggle/temp/, but they won't be saved outside of the current session"
   ]
  },
  {
   "cell_type": "code",
   "execution_count": 2,
   "id": "ca41ec73",
   "metadata": {
    "execution": {
     "iopub.execute_input": "2023-06-04T07:45:25.729787Z",
     "iopub.status.busy": "2023-06-04T07:45:25.728623Z",
     "iopub.status.idle": "2023-06-04T07:45:37.829771Z",
     "shell.execute_reply": "2023-06-04T07:45:37.828455Z"
    },
    "papermill": {
     "duration": 12.113929,
     "end_time": "2023-06-04T07:45:37.832962",
     "exception": false,
     "start_time": "2023-06-04T07:45:25.719033",
     "status": "completed"
    },
    "tags": []
   },
   "outputs": [
    {
     "name": "stderr",
     "output_type": "stream",
     "text": [
      "/opt/conda/lib/python3.10/site-packages/tensorflow_io/python/ops/__init__.py:98: UserWarning: unable to load libtensorflow_io_plugins.so: unable to open file: libtensorflow_io_plugins.so, from paths: ['/opt/conda/lib/python3.10/site-packages/tensorflow_io/python/ops/libtensorflow_io_plugins.so']\n",
      "caused by: ['/opt/conda/lib/python3.10/site-packages/tensorflow_io/python/ops/libtensorflow_io_plugins.so: undefined symbol: _ZN3tsl6StatusC1EN10tensorflow5error4CodeESt17basic_string_viewIcSt11char_traitsIcEENS_14SourceLocationE']\n",
      "  warnings.warn(f\"unable to load libtensorflow_io_plugins.so: {e}\")\n",
      "/opt/conda/lib/python3.10/site-packages/tensorflow_io/python/ops/__init__.py:104: UserWarning: file system plugins are not loaded: unable to open file: libtensorflow_io.so, from paths: ['/opt/conda/lib/python3.10/site-packages/tensorflow_io/python/ops/libtensorflow_io.so']\n",
      "caused by: ['/opt/conda/lib/python3.10/site-packages/tensorflow_io/python/ops/libtensorflow_io.so: undefined symbol: _ZTVN10tensorflow13GcsFileSystemE']\n",
      "  warnings.warn(f\"file system plugins are not loaded: {e}\")\n"
     ]
    }
   ],
   "source": [
    "import pandas as pd #导入pandas库\n",
    "import seaborn as sns #导入可视化包seaborn\n",
    "import numpy as np #导入numpy库\n",
    "from keras.utils.np_utils import to_categorical #独热编码\n",
    "from sklearn.model_selection import train_test_split #导入训练和验证数据分割\n",
    "import matplotlib.pyplot as plt"
   ]
  },
  {
   "cell_type": "code",
   "execution_count": 3,
   "id": "801f1a34",
   "metadata": {
    "execution": {
     "iopub.execute_input": "2023-06-04T07:45:37.852663Z",
     "iopub.status.busy": "2023-06-04T07:45:37.850562Z",
     "iopub.status.idle": "2023-06-04T07:45:37.858011Z",
     "shell.execute_reply": "2023-06-04T07:45:37.856720Z"
    },
    "papermill": {
     "duration": 0.019724,
     "end_time": "2023-06-04T07:45:37.860631",
     "exception": false,
     "start_time": "2023-06-04T07:45:37.840907",
     "status": "completed"
    },
    "tags": []
   },
   "outputs": [],
   "source": [
    "train_data_file = \"/kaggle/input/digit-recognizer/train.csv\"\n",
    "test_data_file = \"/kaggle/input/digit-recognizer/test.csv\"\n",
    "source_file_path = \"/kaggle/input/digit-recognizer/\"\n",
    "output_path = \"/kaggle/working/\"\n",
    "submission_template = \"sample_submission.csv\""
   ]
  },
  {
   "cell_type": "code",
   "execution_count": 4,
   "id": "b574670d",
   "metadata": {
    "execution": {
     "iopub.execute_input": "2023-06-04T07:45:37.879513Z",
     "iopub.status.busy": "2023-06-04T07:45:37.878544Z",
     "iopub.status.idle": "2023-06-04T07:45:45.434571Z",
     "shell.execute_reply": "2023-06-04T07:45:45.433260Z"
    },
    "papermill": {
     "duration": 7.568421,
     "end_time": "2023-06-04T07:45:45.437265",
     "exception": false,
     "start_time": "2023-06-04T07:45:37.868844",
     "status": "completed"
    },
    "tags": []
   },
   "outputs": [
    {
     "data": {
      "text/html": [
       "<div>\n",
       "<style scoped>\n",
       "    .dataframe tbody tr th:only-of-type {\n",
       "        vertical-align: middle;\n",
       "    }\n",
       "\n",
       "    .dataframe tbody tr th {\n",
       "        vertical-align: top;\n",
       "    }\n",
       "\n",
       "    .dataframe thead th {\n",
       "        text-align: right;\n",
       "    }\n",
       "</style>\n",
       "<table border=\"1\" class=\"dataframe\">\n",
       "  <thead>\n",
       "    <tr style=\"text-align: right;\">\n",
       "      <th></th>\n",
       "      <th>label</th>\n",
       "      <th>pixel0</th>\n",
       "      <th>pixel1</th>\n",
       "      <th>pixel2</th>\n",
       "      <th>pixel3</th>\n",
       "      <th>pixel4</th>\n",
       "      <th>pixel5</th>\n",
       "      <th>pixel6</th>\n",
       "      <th>pixel7</th>\n",
       "      <th>pixel8</th>\n",
       "      <th>...</th>\n",
       "      <th>pixel774</th>\n",
       "      <th>pixel775</th>\n",
       "      <th>pixel776</th>\n",
       "      <th>pixel777</th>\n",
       "      <th>pixel778</th>\n",
       "      <th>pixel779</th>\n",
       "      <th>pixel780</th>\n",
       "      <th>pixel781</th>\n",
       "      <th>pixel782</th>\n",
       "      <th>pixel783</th>\n",
       "    </tr>\n",
       "  </thead>\n",
       "  <tbody>\n",
       "    <tr>\n",
       "      <th>0</th>\n",
       "      <td>1</td>\n",
       "      <td>0</td>\n",
       "      <td>0</td>\n",
       "      <td>0</td>\n",
       "      <td>0</td>\n",
       "      <td>0</td>\n",
       "      <td>0</td>\n",
       "      <td>0</td>\n",
       "      <td>0</td>\n",
       "      <td>0</td>\n",
       "      <td>...</td>\n",
       "      <td>0</td>\n",
       "      <td>0</td>\n",
       "      <td>0</td>\n",
       "      <td>0</td>\n",
       "      <td>0</td>\n",
       "      <td>0</td>\n",
       "      <td>0</td>\n",
       "      <td>0</td>\n",
       "      <td>0</td>\n",
       "      <td>0</td>\n",
       "    </tr>\n",
       "    <tr>\n",
       "      <th>1</th>\n",
       "      <td>0</td>\n",
       "      <td>0</td>\n",
       "      <td>0</td>\n",
       "      <td>0</td>\n",
       "      <td>0</td>\n",
       "      <td>0</td>\n",
       "      <td>0</td>\n",
       "      <td>0</td>\n",
       "      <td>0</td>\n",
       "      <td>0</td>\n",
       "      <td>...</td>\n",
       "      <td>0</td>\n",
       "      <td>0</td>\n",
       "      <td>0</td>\n",
       "      <td>0</td>\n",
       "      <td>0</td>\n",
       "      <td>0</td>\n",
       "      <td>0</td>\n",
       "      <td>0</td>\n",
       "      <td>0</td>\n",
       "      <td>0</td>\n",
       "    </tr>\n",
       "    <tr>\n",
       "      <th>2</th>\n",
       "      <td>1</td>\n",
       "      <td>0</td>\n",
       "      <td>0</td>\n",
       "      <td>0</td>\n",
       "      <td>0</td>\n",
       "      <td>0</td>\n",
       "      <td>0</td>\n",
       "      <td>0</td>\n",
       "      <td>0</td>\n",
       "      <td>0</td>\n",
       "      <td>...</td>\n",
       "      <td>0</td>\n",
       "      <td>0</td>\n",
       "      <td>0</td>\n",
       "      <td>0</td>\n",
       "      <td>0</td>\n",
       "      <td>0</td>\n",
       "      <td>0</td>\n",
       "      <td>0</td>\n",
       "      <td>0</td>\n",
       "      <td>0</td>\n",
       "    </tr>\n",
       "    <tr>\n",
       "      <th>3</th>\n",
       "      <td>4</td>\n",
       "      <td>0</td>\n",
       "      <td>0</td>\n",
       "      <td>0</td>\n",
       "      <td>0</td>\n",
       "      <td>0</td>\n",
       "      <td>0</td>\n",
       "      <td>0</td>\n",
       "      <td>0</td>\n",
       "      <td>0</td>\n",
       "      <td>...</td>\n",
       "      <td>0</td>\n",
       "      <td>0</td>\n",
       "      <td>0</td>\n",
       "      <td>0</td>\n",
       "      <td>0</td>\n",
       "      <td>0</td>\n",
       "      <td>0</td>\n",
       "      <td>0</td>\n",
       "      <td>0</td>\n",
       "      <td>0</td>\n",
       "    </tr>\n",
       "    <tr>\n",
       "      <th>4</th>\n",
       "      <td>0</td>\n",
       "      <td>0</td>\n",
       "      <td>0</td>\n",
       "      <td>0</td>\n",
       "      <td>0</td>\n",
       "      <td>0</td>\n",
       "      <td>0</td>\n",
       "      <td>0</td>\n",
       "      <td>0</td>\n",
       "      <td>0</td>\n",
       "      <td>...</td>\n",
       "      <td>0</td>\n",
       "      <td>0</td>\n",
       "      <td>0</td>\n",
       "      <td>0</td>\n",
       "      <td>0</td>\n",
       "      <td>0</td>\n",
       "      <td>0</td>\n",
       "      <td>0</td>\n",
       "      <td>0</td>\n",
       "      <td>0</td>\n",
       "    </tr>\n",
       "  </tbody>\n",
       "</table>\n",
       "<p>5 rows × 785 columns</p>\n",
       "</div>"
      ],
      "text/plain": [
       "   label  pixel0  pixel1  pixel2  pixel3  pixel4  pixel5  pixel6  pixel7  \\\n",
       "0      1       0       0       0       0       0       0       0       0   \n",
       "1      0       0       0       0       0       0       0       0       0   \n",
       "2      1       0       0       0       0       0       0       0       0   \n",
       "3      4       0       0       0       0       0       0       0       0   \n",
       "4      0       0       0       0       0       0       0       0       0   \n",
       "\n",
       "   pixel8  ...  pixel774  pixel775  pixel776  pixel777  pixel778  pixel779  \\\n",
       "0       0  ...         0         0         0         0         0         0   \n",
       "1       0  ...         0         0         0         0         0         0   \n",
       "2       0  ...         0         0         0         0         0         0   \n",
       "3       0  ...         0         0         0         0         0         0   \n",
       "4       0  ...         0         0         0         0         0         0   \n",
       "\n",
       "   pixel780  pixel781  pixel782  pixel783  \n",
       "0         0         0         0         0  \n",
       "1         0         0         0         0  \n",
       "2         0         0         0         0  \n",
       "3         0         0         0         0  \n",
       "4         0         0         0         0  \n",
       "\n",
       "[5 rows x 785 columns]"
      ]
     },
     "execution_count": 4,
     "metadata": {},
     "output_type": "execute_result"
    }
   ],
   "source": [
    "# 读取测试和训练数据\n",
    "train = pd.read_csv(train_data_file)\n",
    "x_test = pd.read_csv(test_data_file)\n",
    "train.head()"
   ]
  },
  {
   "cell_type": "code",
   "execution_count": 5,
   "id": "bf9271b2",
   "metadata": {
    "execution": {
     "iopub.execute_input": "2023-06-04T07:45:45.458304Z",
     "iopub.status.busy": "2023-06-04T07:45:45.457754Z",
     "iopub.status.idle": "2023-06-04T07:45:45.639153Z",
     "shell.execute_reply": "2023-06-04T07:45:45.637965Z"
    },
    "papermill": {
     "duration": 0.196073,
     "end_time": "2023-06-04T07:45:45.641931",
     "exception": false,
     "start_time": "2023-06-04T07:45:45.445858",
     "status": "completed"
    },
    "tags": []
   },
   "outputs": [],
   "source": [
    "# 数据的划分和可视化\n",
    "x_train = train.drop(\"label\", axis = 1, inplace = False)\n",
    "# y_train = pd.DataFrame(train[\"label\"])\n",
    "y_train = train[\"label\"]"
   ]
  },
  {
   "cell_type": "code",
   "execution_count": 6,
   "id": "5cd9ca1f",
   "metadata": {
    "execution": {
     "iopub.execute_input": "2023-06-04T07:45:45.661624Z",
     "iopub.status.busy": "2023-06-04T07:45:45.660481Z",
     "iopub.status.idle": "2023-06-04T07:45:45.676832Z",
     "shell.execute_reply": "2023-06-04T07:45:45.675503Z"
    },
    "papermill": {
     "duration": 0.029459,
     "end_time": "2023-06-04T07:45:45.680004",
     "exception": false,
     "start_time": "2023-06-04T07:45:45.650545",
     "status": "completed"
    },
    "tags": []
   },
   "outputs": [
    {
     "data": {
      "text/plain": [
       "1    4684\n",
       "7    4401\n",
       "3    4351\n",
       "9    4188\n",
       "2    4177\n",
       "6    4137\n",
       "0    4132\n",
       "4    4072\n",
       "8    4063\n",
       "5    3795\n",
       "Name: label, dtype: int64"
      ]
     },
     "execution_count": 6,
     "metadata": {},
     "output_type": "execute_result"
    }
   ],
   "source": [
    "y_train.value_counts()"
   ]
  },
  {
   "cell_type": "code",
   "execution_count": 7,
   "id": "9232dc8d",
   "metadata": {
    "execution": {
     "iopub.execute_input": "2023-06-04T07:45:45.700424Z",
     "iopub.status.busy": "2023-06-04T07:45:45.698868Z",
     "iopub.status.idle": "2023-06-04T07:45:45.973696Z",
     "shell.execute_reply": "2023-06-04T07:45:45.972503Z"
    },
    "papermill": {
     "duration": 0.287979,
     "end_time": "2023-06-04T07:45:45.976767",
     "exception": false,
     "start_time": "2023-06-04T07:45:45.688788",
     "status": "completed"
    },
    "tags": []
   },
   "outputs": [
    {
     "data": {
      "text/plain": [
       "<Axes: ylabel='count'>"
      ]
     },
     "execution_count": 7,
     "metadata": {},
     "output_type": "execute_result"
    },
    {
     "data": {
      "image/png": "[encoded data removed]",
      "text/plain": [
       "<Figure size 640x480 with 1 Axes>"
      ]
     },
     "metadata": {},
     "output_type": "display_data"
    }
   ],
   "source": [
    "# sns.countplot(data = train, x = \"label\")\n",
    "sns.countplot(y_train)"
   ]
  },
  {
   "cell_type": "code",
   "execution_count": 8,
   "id": "33f69c3c",
   "metadata": {
    "execution": {
     "iopub.execute_input": "2023-06-04T07:45:45.997164Z",
     "iopub.status.busy": "2023-06-04T07:45:45.996225Z",
     "iopub.status.idle": "2023-06-04T07:45:46.155975Z",
     "shell.execute_reply": "2023-06-04T07:45:46.154960Z"
    },
    "papermill": {
     "duration": 0.173229,
     "end_time": "2023-06-04T07:45:46.158908",
     "exception": false,
     "start_time": "2023-06-04T07:45:45.985679",
     "status": "completed"
    },
    "tags": []
   },
   "outputs": [],
   "source": [
    "# 数据归一化\n",
    "x_train = x_train / 255.0\n",
    "x_text = x_test / 255.0"
   ]
  },
  {
   "cell_type": "code",
   "execution_count": 9,
   "id": "261ead2b",
   "metadata": {
    "execution": {
     "iopub.execute_input": "2023-06-04T07:45:46.179565Z",
     "iopub.status.busy": "2023-06-04T07:45:46.178765Z",
     "iopub.status.idle": "2023-06-04T07:45:46.184385Z",
     "shell.execute_reply": "2023-06-04T07:45:46.183537Z"
    },
    "papermill": {
     "duration": 0.018452,
     "end_time": "2023-06-04T07:45:46.186485",
     "exception": false,
     "start_time": "2023-06-04T07:45:46.168033",
     "status": "completed"
    },
    "tags": []
   },
   "outputs": [],
   "source": [
    "# 数据转换为28x28x1\n",
    "x_train = x_train.values.reshape(-1, 28, 28, 1)\n",
    "x_test = x_test.values.reshape(-1, 28, 28, 1)"
   ]
  },
  {
   "cell_type": "code",
   "execution_count": 10,
   "id": "018b94ea",
   "metadata": {
    "execution": {
     "iopub.execute_input": "2023-06-04T07:45:46.207705Z",
     "iopub.status.busy": "2023-06-04T07:45:46.206843Z",
     "iopub.status.idle": "2023-06-04T07:45:46.215283Z",
     "shell.execute_reply": "2023-06-04T07:45:46.214237Z"
    },
    "papermill": {
     "duration": 0.021656,
     "end_time": "2023-06-04T07:45:46.217572",
     "exception": false,
     "start_time": "2023-06-04T07:45:46.195916",
     "status": "completed"
    },
    "tags": []
   },
   "outputs": [
    {
     "data": {
      "text/plain": [
       "(42000, 10)"
      ]
     },
     "execution_count": 10,
     "metadata": {},
     "output_type": "execute_result"
    }
   ],
   "source": [
    "# 标签独热编码\n",
    "y_train = to_categorical(y_train, num_classes = 10)\n",
    "y_train.shape"
   ]
  },
  {
   "cell_type": "code",
   "execution_count": 11,
   "id": "a046c335",
   "metadata": {
    "execution": {
     "iopub.execute_input": "2023-06-04T07:45:46.239300Z",
     "iopub.status.busy": "2023-06-04T07:45:46.237924Z",
     "iopub.status.idle": "2023-06-04T07:45:46.912507Z",
     "shell.execute_reply": "2023-06-04T07:45:46.911316Z"
    },
    "papermill": {
     "duration": 0.688858,
     "end_time": "2023-06-04T07:45:46.915865",
     "exception": false,
     "start_time": "2023-06-04T07:45:46.227007",
     "status": "completed"
    },
    "tags": []
   },
   "outputs": [],
   "source": [
    "# 划分训练和验证集\n",
    "x_train, x_val, y_train, y_val = train_test_split(x_train, y_train, test_size = 0.1)"
   ]
  },
  {
   "cell_type": "code",
   "execution_count": 12,
   "id": "c7806686",
   "metadata": {
    "execution": {
     "iopub.execute_input": "2023-06-04T07:45:46.936792Z",
     "iopub.status.busy": "2023-06-04T07:45:46.935796Z",
     "iopub.status.idle": "2023-06-04T07:45:47.246899Z",
     "shell.execute_reply": "2023-06-04T07:45:47.245562Z"
    },
    "papermill": {
     "duration": 0.325427,
     "end_time": "2023-06-04T07:45:47.250463",
     "exception": false,
     "start_time": "2023-06-04T07:45:46.925036",
     "status": "completed"
    },
    "tags": []
   },
   "outputs": [
    {
     "data": {
      "text/plain": [
       "<matplotlib.image.AxesImage at 0x7a25673a2cb0>"
      ]
     },
     "execution_count": 12,
     "metadata": {},
     "output_type": "execute_result"
    },
    {
     "data": {
      "image/png": "[encoded data removed]",
      "text/plain": [
       "<Figure size 640x480 with 1 Axes>"
      ]
     },
     "metadata": {},
     "output_type": "display_data"
    }
   ],
   "source": [
    "plt.imshow(x_train[32][:,:,:])"
   ]
  },
  {
   "cell_type": "markdown",
   "id": "08861453",
   "metadata": {
    "papermill": {
     "duration": 0.009242,
     "end_time": "2023-06-04T07:45:47.269215",
     "exception": false,
     "start_time": "2023-06-04T07:45:47.259973",
     "status": "completed"
    },
    "tags": []
   },
   "source": [
    "## 搭建卷积神经网络"
   ]
  },
  {
   "cell_type": "code",
   "execution_count": 13,
   "id": "cbd69a65",
   "metadata": {
    "execution": {
     "iopub.execute_input": "2023-06-04T07:45:47.291449Z",
     "iopub.status.busy": "2023-06-04T07:45:47.290143Z",
     "iopub.status.idle": "2023-06-04T07:45:47.734344Z",
     "shell.execute_reply": "2023-06-04T07:45:47.733256Z"
    },
    "papermill": {
     "duration": 0.458601,
     "end_time": "2023-06-04T07:45:47.737432",
     "exception": false,
     "start_time": "2023-06-04T07:45:47.278831",
     "status": "completed"
    },
    "tags": []
   },
   "outputs": [],
   "source": [
    "from keras.models import Sequential #导入序贯模型\n",
    "from keras.layers import Dense, Dropout, Flatten, Conv2D, MaxPool2D #导入CNN相关的层\n",
    "from tensorflow.keras.optimizers.legacy import RMSprop #RMS优化器\n",
    "# from tensorflow.keras.optimizers import RMSprop #RMS优化器"
   ]
  },
  {
   "cell_type": "code",
   "execution_count": 14,
   "id": "8d75cf18",
   "metadata": {
    "execution": {
     "iopub.execute_input": "2023-06-04T07:45:47.759440Z",
     "iopub.status.busy": "2023-06-04T07:45:47.758927Z",
     "iopub.status.idle": "2023-06-04T07:45:48.082565Z",
     "shell.execute_reply": "2023-06-04T07:45:48.081178Z"
    },
    "papermill": {
     "duration": 0.339391,
     "end_time": "2023-06-04T07:45:48.086503",
     "exception": false,
     "start_time": "2023-06-04T07:45:47.747112",
     "status": "completed"
    },
    "tags": []
   },
   "outputs": [],
   "source": [
    "model = Sequential()\n",
    "model.add(Conv2D(filters = 32, kernel_size = (5,5), padding = \"same\", activation = \"relu\", input_shape=(28,28,1)))\n",
    "model.add(Conv2D(filters = 32, kernel_size = (5,5), padding = \"same\", activation = \"relu\"))\n",
    "model.add(MaxPool2D(pool_size = (5,5)))\n",
    "model.add(Dropout(0.2))\n",
    "model.add(Conv2D(filters = 64, kernel_size = (3,3), padding = \"same\", activation = \"relu\"))\n",
    "model.add(Conv2D(filters = 64, kernel_size = (3,3), padding = \"same\", activation = \"relu\"))\n",
    "model.add(MaxPool2D(pool_size = (2,2)))\n",
    "model.add(Dropout(0.2))\n",
    "model.add(Flatten())\n",
    "model.add(Dense(256, activation = \"relu\"))\n",
    "model.add(Dropout(0.1))\n",
    "model.add(Dense(10, activation = \"softmax\"))\n"
   ]
  },
  {
   "cell_type": "code",
   "execution_count": 15,
   "id": "01a375e7",
   "metadata": {
    "execution": {
     "iopub.execute_input": "2023-06-04T07:45:48.108507Z",
     "iopub.status.busy": "2023-06-04T07:45:48.107506Z",
     "iopub.status.idle": "2023-06-04T07:45:48.114212Z",
     "shell.execute_reply": "2023-06-04T07:45:48.112911Z"
    },
    "papermill": {
     "duration": 0.020656,
     "end_time": "2023-06-04T07:45:48.116764",
     "exception": false,
     "start_time": "2023-06-04T07:45:48.096108",
     "status": "completed"
    },
    "tags": []
   },
   "outputs": [],
   "source": [
    "optimizer = RMSprop(learning_rate = 0.001, rho = 0.9, epsilon = 1e-08, decay = 0.0) #定义优化器\n"
   ]
  },
  {
   "cell_type": "code",
   "execution_count": 16,
   "id": "2199d42b",
   "metadata": {
    "execution": {
     "iopub.execute_input": "2023-06-04T07:45:48.138240Z",
     "iopub.status.busy": "2023-06-04T07:45:48.137244Z",
     "iopub.status.idle": "2023-06-04T07:45:48.161906Z",
     "shell.execute_reply": "2023-06-04T07:45:48.160637Z"
    },
    "papermill": {
     "duration": 0.038699,
     "end_time": "2023-06-04T07:45:48.165094",
     "exception": false,
     "start_time": "2023-06-04T07:45:48.126395",
     "status": "completed"
    },
    "tags": []
   },
   "outputs": [],
   "source": [
    "model.compile(optimizer = optimizer, loss = \"categorical_crossentropy\", metrics = \"accuracy\") #编译模型"
   ]
  },
  {
   "cell_type": "code",
   "execution_count": 17,
   "id": "713c2b65",
   "metadata": {
    "execution": {
     "iopub.execute_input": "2023-06-04T07:45:48.186933Z",
     "iopub.status.busy": "2023-06-04T07:45:48.186457Z",
     "iopub.status.idle": "2023-06-04T08:06:20.205893Z",
     "shell.execute_reply": "2023-06-04T08:06:20.204319Z"
    },
    "papermill": {
     "duration": 1232.036449,
     "end_time": "2023-06-04T08:06:20.211331",
     "exception": false,
     "start_time": "2023-06-04T07:45:48.174882",
     "status": "completed"
    },
    "tags": []
   },
   "outputs": [
    {
     "name": "stdout",
     "output_type": "stream",
     "text": [
      "Epoch 1/10\n",
      "296/296 [==============================] - 125s 418ms/step - loss: 0.3895 - accuracy: 0.8733 - val_loss: 0.1326 - val_accuracy: 0.9557\n",
      "Epoch 2/10\n",
      "296/296 [==============================] - 123s 416ms/step - loss: 0.0888 - accuracy: 0.9728 - val_loss: 0.0555 - val_accuracy: 0.9833\n",
      "Epoch 3/10\n",
      "296/296 [==============================] - 123s 414ms/step - loss: 0.0619 - accuracy: 0.9812 - val_loss: 0.0384 - val_accuracy: 0.9893\n",
      "Epoch 4/10\n",
      "296/296 [==============================] - 123s 416ms/step - loss: 0.0488 - accuracy: 0.9851 - val_loss: 0.0633 - val_accuracy: 0.9817\n",
      "Epoch 5/10\n",
      "296/296 [==============================] - 122s 413ms/step - loss: 0.0397 - accuracy: 0.9879 - val_loss: 0.0365 - val_accuracy: 0.9898\n",
      "Epoch 6/10\n",
      "296/296 [==============================] - 123s 415ms/step - loss: 0.0370 - accuracy: 0.9887 - val_loss: 0.0346 - val_accuracy: 0.9876\n",
      "Epoch 7/10\n",
      "296/296 [==============================] - 123s 416ms/step - loss: 0.0310 - accuracy: 0.9903 - val_loss: 0.0352 - val_accuracy: 0.9895\n",
      "Epoch 8/10\n",
      "296/296 [==============================] - 124s 417ms/step - loss: 0.0301 - accuracy: 0.9908 - val_loss: 0.0311 - val_accuracy: 0.9902\n",
      "Epoch 9/10\n",
      "296/296 [==============================] - 123s 415ms/step - loss: 0.0268 - accuracy: 0.9921 - val_loss: 0.0399 - val_accuracy: 0.9886\n",
      "Epoch 10/10\n",
      "296/296 [==============================] - 123s 416ms/step - loss: 0.0247 - accuracy: 0.9922 - val_loss: 0.0361 - val_accuracy: 0.9888\n"
     ]
    }
   ],
   "source": [
    "history = model.fit(x_train, y_train, epochs = 10, batch_size = 128, validation_data = (x_val, y_val))"
   ]
  },
  {
   "cell_type": "code",
   "execution_count": 18,
   "id": "97d5c186",
   "metadata": {
    "execution": {
     "iopub.execute_input": "2023-06-04T08:06:20.893657Z",
     "iopub.status.busy": "2023-06-04T08:06:20.892775Z",
     "iopub.status.idle": "2023-06-04T08:06:21.414537Z",
     "shell.execute_reply": "2023-06-04T08:06:21.413266Z"
    },
    "papermill": {
     "duration": 0.810619,
     "end_time": "2023-06-04T08:06:21.417119",
     "exception": false,
     "start_time": "2023-06-04T08:06:20.606500",
     "status": "completed"
    },
    "tags": []
   },
   "outputs": [
    {
     "data": {
      "image/png": "[encoded data removed]",
      "text/plain": [
       "<Figure size 640x480 with 2 Axes>"
      ]
     },
     "metadata": {},
     "output_type": "display_data"
    }
   ],
   "source": [
    "fig, ax = plt.subplots(2,1)\n",
    "ax[0].plot(history.history[\"loss\"], color = \"b\", label = \"Training Loss\")\n",
    "ax[0].plot(history.history[\"val_loss\"], color = \"r\", label = \"Validation Loss\")\n",
    "axes = ax[0]\n",
    "legend = ax[0].legend(loc = \"best\", shadow = True)\n",
    "\n",
    "ax[1].plot(history.history[\"accuracy\"], color = \"b\", label = \"Training Accuracy\")\n",
    "ax[1].plot(history.history[\"val_accuracy\"], color = \"r\", label = \"Validation Accuracy\")\n",
    "axes = ax[1]\n",
    "legend = ax[1].legend(loc = \"best\", shadow = True)\n"
   ]
  },
  {
   "cell_type": "code",
   "execution_count": 19,
   "id": "587478b8",
   "metadata": {
    "execution": {
     "iopub.execute_input": "2023-06-04T08:06:21.990387Z",
     "iopub.status.busy": "2023-06-04T08:06:21.989858Z",
     "iopub.status.idle": "2023-06-04T08:06:42.210071Z",
     "shell.execute_reply": "2023-06-04T08:06:42.208705Z"
    },
    "papermill": {
     "duration": 20.510269,
     "end_time": "2023-06-04T08:06:42.213653",
     "exception": false,
     "start_time": "2023-06-04T08:06:21.703384",
     "status": "completed"
    },
    "tags": []
   },
   "outputs": [
    {
     "name": "stdout",
     "output_type": "stream",
     "text": [
      "875/875 [==============================] - 19s 22ms/step\n"
     ]
    }
   ],
   "source": [
    "# 生成结果\n",
    "results = model.predict(x_test)\n",
    "results = np.argmax(results, axis = 1)\n",
    "results = pd.Series(results, name = \"Label\")"
   ]
  },
  {
   "cell_type": "code",
   "execution_count": 20,
   "id": "9afd5629",
   "metadata": {
    "execution": {
     "iopub.execute_input": "2023-06-04T08:06:42.831930Z",
     "iopub.status.busy": "2023-06-04T08:06:42.830993Z",
     "iopub.status.idle": "2023-06-04T08:06:42.935427Z",
     "shell.execute_reply": "2023-06-04T08:06:42.934112Z"
    },
    "papermill": {
     "duration": 0.417807,
     "end_time": "2023-06-04T08:06:42.938701",
     "exception": false,
     "start_time": "2023-06-04T08:06:42.520894",
     "status": "completed"
    },
    "tags": []
   },
   "outputs": [],
   "source": [
    "# 生成提交文件\n",
    "from datetime import datetime\n",
    "submission = pd.read_csv(source_file_path + submission_template) #读取提交模板\n",
    "submission[\"Label\"] = results\n",
    "time_stamp = datetime.now().strftime(\"%m-%d-%H-%M-%S\") #生成时间戳\n",
    "csv_name = \"digit_recg\" + time_stamp + \".csv\"\n",
    "submission.to_csv(output_path + csv_name, index = False)"
   ]
  }
 ],
 "metadata": {
  "kernelspec": {
   "display_name": "Python 3",
   "language": "python",
   "name": "python3"
  },
  "language_info": {
   "codemirror_mode": {
    "name": "ipython",
    "version": 3
   },
   "file_extension": ".py",
   "mimetype": "text/x-python",
   "name": "python",
   "nbconvert_exporter": "python",
   "pygments_lexer": "ipython3",
   "version": "3.10.10"
  },
  "papermill": {
   "default_parameters": {},
   "duration": 1294.890373,
   "end_time": "2023-06-04T08:06:46.566097",
   "environment_variables": {},
   "exception": null,
   "input_path": "__notebook__.ipynb",
   "output_path": "__notebook__.ipynb",
   "parameters": {},
   "start_time": "2023-06-04T07:45:11.675724",
   "version": "2.4.0"
  }
 },
 "nbformat": 4,
 "nbformat_minor": 5
}
